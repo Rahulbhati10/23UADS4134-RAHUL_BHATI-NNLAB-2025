{
 "cells": [
  {
   "cell_type": "markdown",
   "metadata": {},
   "source": [
    "experiment:-WAP to evaluate the performance of implemented three-layer neural network with\n",
    "variations in activation functions, size of hidden layer, learning rate, batch size and\n",
    "number of epochs. "
   ]
  },
  {
   "cell_type": "code",
   "execution_count": null,
   "metadata": {},
   "outputs": [
    {
     "name": "stdout",
     "output_type": "stream",
     "text": [
      "Training with relu activation, 256 hidden units, learning rate=0.1, batch size=100, epochs=100...\n"
     ]
    },
    {
     "name": "stderr",
     "output_type": "stream",
     "text": [
      "c:\\Users\\hp\\AppData\\Local\\Programs\\Python\\Python312\\Lib\\site-packages\\keras\\src\\layers\\core\\dense.py:87: UserWarning: Do not pass an `input_shape`/`input_dim` argument to a layer. When using Sequential models, prefer using an `Input(shape)` object as the first layer in the model instead.\n",
      "  super().__init__(activity_regularizer=activity_regularizer, **kwargs)\n"
     ]
    },
    {
     "name": "stdout",
     "output_type": "stream",
     "text": [
      "Training with relu activation, 256 hidden units, learning rate=0.1, batch size=100, epochs=50...\n",
      "Training with relu activation, 256 hidden units, learning rate=0.1, batch size=100, epochs=10...\n",
      "Training with relu activation, 256 hidden units, learning rate=0.1, batch size=10, epochs=100...\n",
      "Training with relu activation, 256 hidden units, learning rate=0.1, batch size=10, epochs=50...\n",
      "Training with relu activation, 256 hidden units, learning rate=0.1, batch size=10, epochs=10...\n",
      "Training with relu activation, 256 hidden units, learning rate=0.1, batch size=1, epochs=100...\n"
     ]
    }
   ],
   "source": [
    "import numpy as np\n",
    "import tensorflow as tf\n",
    "from tensorflow.keras.models import Sequential\n",
    "from tensorflow.keras.layers import Dense\n",
    "from tensorflow.keras.optimizers import Adam\n",
    "from tensorflow.keras.datasets import mnist\n",
    "from sklearn.model_selection import train_test_split\n",
    "import matplotlib.pyplot as plt\n",
    "import pandas as pd\n",
    "\n",
    "# Function to build the neural network model\n",
    "def build_model(activation_function, hidden_units, learning_rate):\n",
    "    model = Sequential()\n",
    "    \n",
    "    # Input layer (784 input neurons for MNIST images flattened to 1D vector)\n",
    "    model.add(Dense(hidden_units, input_dim=784, activation=activation_function))\n",
    "    \n",
    "    # Hidden layer\n",
    "    model.add(Dense(hidden_units, activation=activation_function))\n",
    "    \n",
    "    # Output layer (10 output neurons for MNIST digits)\n",
    "    model.add(Dense(10, activation='softmax'))\n",
    "    \n",
    "    # Optimizer with a variable learning rate\n",
    "    optimizer = Adam(learning_rate=learning_rate)\n",
    "    \n",
    "    # Compile the model\n",
    "    model.compile(optimizer=optimizer, loss='sparse_categorical_crossentropy', metrics=['accuracy'])\n",
    "    \n",
    "    return model\n",
    "\n",
    "# Load the MNIST dataset\n",
    "(x_train, y_train), (x_test, y_test) = mnist.load_data()\n",
    "\n",
    "# Flatten the input data from 28x28 pixels to a 1D array of size 784\n",
    "x_train = x_train.reshape(x_train.shape[0], 784).astype('float32') / 255\n",
    "x_test = x_test.reshape(x_test.shape[0], 784).astype('float32') / 255\n",
    "\n",
    "# Split the data further into training and validation sets\n",
    "x_train, x_val, y_train, y_val = train_test_split(x_train, y_train, test_size=0.2, random_state=42)\n",
    "\n",
    "# Hyperparameters to evaluate\n",
    "activations = ['relu']\n",
    "hidden_sizes = [256]\n",
    "learning_rates = [0.1]\n",
    "batch_sizes = [100, 10, 1]\n",
    "epochs = [100, 50,10]\n",
    "\n",
    "# Store results for comparison\n",
    "results = []\n",
    "\n",
    "# Loop over all hyperparameter combinations\n",
    "for activation in activations:\n",
    "    for hidden_units in hidden_sizes:\n",
    "        for lr in learning_rates:\n",
    "            for batch_size in batch_sizes:\n",
    "                for epoch in epochs:\n",
    "                    print(f\"Training with {activation} activation, {hidden_units} hidden units, \"\n",
    "                          f\"learning rate={lr}, batch size={batch_size}, epochs={epoch}...\")\n",
    "                    \n",
    "                    # Build the model with the current hyperparameters\n",
    "                    model = build_model(activation, hidden_units, lr)\n",
    "                    \n",
    "                    # Train the model\n",
    "                    history = model.fit(x_train, y_train, validation_data=(x_val, y_val), \n",
    "                                        epochs=epoch, batch_size=batch_size, verbose=0)\n",
    "                    \n",
    "                    # Evaluate the model on the test set\n",
    "                    loss, accuracy = model.evaluate(x_test, y_test, verbose=0)\n",
    "                    \n",
    "                    # Save the results for comparison\n",
    "                    results.append({\n",
    "                        'activation': activation,\n",
    "                        'hidden_units': hidden_units,\n",
    "                        'learning_rate': lr,\n",
    "                        'batch_size': batch_size,\n",
    "                        'epochs': epoch,\n",
    "                        'accuracy': accuracy,\n",
    "                        'loss': loss\n",
    "                    })\n",
    "\n",
    "# Convert results into a DataFrame for easy analysis\n",
    "results_df = pd.DataFrame(results)\n",
    "\n",
    "# Ensure that the relevant columns are numeric for plotting\n",
    "results_df['Hidden Units'] = pd.to_numeric(results_df['hidden_units'], errors='coerce')\n",
    "results_df['Accuracy'] = pd.to_numeric(results_df['accuracy'], errors='coerce')\n",
    "\n",
    "# Drop rows where either 'Hidden Units' or 'Accuracy' is NaN\n",
    "results_df = results_df.dropna(subset=['Hidden Units', 'Accuracy'])\n",
    "\n",
    "# Sort by accuracy to see the best performing configurations\n",
    "results_df_sorted = results_df.sort_values(by='Accuracy', ascending=False)\n",
    "\n",
    "# Print the best results\n",
    "print(results_df_sorted.head())\n",
    "\n",
    "# Plot performance comparison\n",
    "fig, ax = plt.subplots(figsize=(12, 6))\n",
    "results_df_sorted.plot(x='Hidden Units', y='Accuracy', ax=ax, kind='line', marker='o', linestyle='-', title=\"Accuracy vs Hidden Units\")\n",
    "plt.xlabel(\"Hidden Units\")\n",
    "plt.ylabel(\"Accuracy\")\n",
    "plt.grid(True)\n",
    "plt.show()\n"
   ]
  }
 ],
 "metadata": {
  "kernelspec": {
   "display_name": "Python 3",
   "language": "python",
   "name": "python3"
  },
  "language_info": {
   "codemirror_mode": {
    "name": "ipython",
    "version": 3
   },
   "file_extension": ".py",
   "mimetype": "text/x-python",
   "name": "python",
   "nbconvert_exporter": "python",
   "pygments_lexer": "ipython3",
   "version": "3.12.0"
  }
 },
 "nbformat": 4,
 "nbformat_minor": 2
}
